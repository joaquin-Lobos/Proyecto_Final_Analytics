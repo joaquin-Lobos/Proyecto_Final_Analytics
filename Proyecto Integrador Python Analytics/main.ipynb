{
 "cells": [
  {
   "cell_type": "markdown",
   "id": "8f542ea7-2ee7-40e7-83fd-056df1b8d979",
   "metadata": {},
   "source": [
    "# Proyecto final python analitycs.\n",
    "## Predicción de los precios de departamentos en alquiler"
   ]
  },
  {
   "cell_type": "code",
   "execution_count": 1,
   "id": "721f06ee-505e-4c11-a753-4c717247a083",
   "metadata": {},
   "outputs": [],
   "source": [
    "import os\n",
    "import platform\n",
    "\n",
    "import numpy as np\n",
    "import matplotlib.pyplot as plt\n",
    "import seaborn as sns\n",
    "import pandas as pd"
   ]
  },
  {
   "cell_type": "markdown",
   "id": "c8dc2eb4-ac4d-4b82-8ffb-7cb856213079",
   "metadata": {},
   "source": [
    "# Recolectar datos\n",
    "<img src=\"https://raw.githubusercontent.com/InoveAlumnos/dataset_analytics_python/master/images/Pipeline1.png\" width=\"1000\" align=\"middle\">"
   ]
  },
  {
   "cell_type": "code",
   "execution_count": 2,
   "id": "573acb15-d9c4-47f5-a3ad-e424ddc09aa8",
   "metadata": {},
   "outputs": [],
   "source": [
    "if os.access('propiedades.csv', os.F_OK) is False:\n",
    "    if platform.system() == 'Windows':\n",
    "        !curl https://raw.githubusercontent.com/InoveAlumnos/dataset_analytics_python/master/propiedades.csv > propiedades.csv\n",
    "    else:\n",
    "        !wget propiedades.csv https://raw.githubusercontent.com/InoveAlumnos/dataset_analytics_python/master/propiedades.csv"
   ]
  },
  {
   "cell_type": "markdown",
   "id": "80779c0b-7514-4b43-b4b3-cf048631f39f",
   "metadata": {},
   "source": [
    "# Procesar datos\n",
    "<img src=\"https://raw.githubusercontent.com/InoveAlumnos/dataset_analytics_python/master/images/Pipeline2.png\" width=\"1000\" align=\"middle\">"
   ]
  },
  {
   "cell_type": "code",
   "execution_count": 3,
   "id": "69f459a8-5b21-4c6d-b3b2-9d08927c7a03",
   "metadata": {},
   "outputs": [
    {
     "data": {
      "text/html": [
       "<div>\n",
       "<style scoped>\n",
       "    .dataframe tbody tr th:only-of-type {\n",
       "        vertical-align: middle;\n",
       "    }\n",
       "\n",
       "    .dataframe tbody tr th {\n",
       "        vertical-align: top;\n",
       "    }\n",
       "\n",
       "    .dataframe thead th {\n",
       "        text-align: right;\n",
       "    }\n",
       "</style>\n",
       "<table border=\"1\" class=\"dataframe\">\n",
       "  <thead>\n",
       "    <tr style=\"text-align: right;\">\n",
       "      <th></th>\n",
       "      <th>Unnamed: 0</th>\n",
       "      <th>latitud</th>\n",
       "      <th>longitud</th>\n",
       "      <th>precio</th>\n",
       "      <th>m2</th>\n",
       "      <th>ambientes</th>\n",
       "    </tr>\n",
       "  </thead>\n",
       "  <tbody>\n",
       "    <tr>\n",
       "      <th>count</th>\n",
       "      <td>1050.000000</td>\n",
       "      <td>1050.000000</td>\n",
       "      <td>1050.000000</td>\n",
       "      <td>1050.000000</td>\n",
       "      <td>1048.000000</td>\n",
       "      <td>1044.000000</td>\n",
       "    </tr>\n",
       "    <tr>\n",
       "      <th>mean</th>\n",
       "      <td>524.500000</td>\n",
       "      <td>-34.526132</td>\n",
       "      <td>-58.423896</td>\n",
       "      <td>35737.122857</td>\n",
       "      <td>62.232777</td>\n",
       "      <td>2.143678</td>\n",
       "    </tr>\n",
       "    <tr>\n",
       "      <th>std</th>\n",
       "      <td>303.253195</td>\n",
       "      <td>2.549434</td>\n",
       "      <td>2.319076</td>\n",
       "      <td>49897.697379</td>\n",
       "      <td>56.281333</td>\n",
       "      <td>1.339870</td>\n",
       "    </tr>\n",
       "    <tr>\n",
       "      <th>min</th>\n",
       "      <td>0.000000</td>\n",
       "      <td>-38.505290</td>\n",
       "      <td>-120.740135</td>\n",
       "      <td>27.000000</td>\n",
       "      <td>0.000000</td>\n",
       "      <td>0.000000</td>\n",
       "    </tr>\n",
       "    <tr>\n",
       "      <th>25%</th>\n",
       "      <td>262.250000</td>\n",
       "      <td>-34.608908</td>\n",
       "      <td>-58.448631</td>\n",
       "      <td>16800.000000</td>\n",
       "      <td>35.000000</td>\n",
       "      <td>1.000000</td>\n",
       "    </tr>\n",
       "    <tr>\n",
       "      <th>50%</th>\n",
       "      <td>524.500000</td>\n",
       "      <td>-34.594705</td>\n",
       "      <td>-58.423578</td>\n",
       "      <td>25000.000000</td>\n",
       "      <td>45.000000</td>\n",
       "      <td>2.000000</td>\n",
       "    </tr>\n",
       "    <tr>\n",
       "      <th>75%</th>\n",
       "      <td>786.750000</td>\n",
       "      <td>-34.578902</td>\n",
       "      <td>-58.395060</td>\n",
       "      <td>39000.000000</td>\n",
       "      <td>70.000000</td>\n",
       "      <td>3.000000</td>\n",
       "    </tr>\n",
       "    <tr>\n",
       "      <th>max</th>\n",
       "      <td>1049.000000</td>\n",
       "      <td>47.751076</td>\n",
       "      <td>-34.588875</td>\n",
       "      <td>820000.000000</td>\n",
       "      <td>700.000000</td>\n",
       "      <td>18.000000</td>\n",
       "    </tr>\n",
       "    <tr>\n",
       "      <th>Nan</th>\n",
       "      <td>0.000000</td>\n",
       "      <td>0.000000</td>\n",
       "      <td>0.000000</td>\n",
       "      <td>0.000000</td>\n",
       "      <td>2.000000</td>\n",
       "      <td>6.000000</td>\n",
       "    </tr>\n",
       "    <tr>\n",
       "      <th>%Nan</th>\n",
       "      <td>0.000000</td>\n",
       "      <td>0.000000</td>\n",
       "      <td>0.000000</td>\n",
       "      <td>0.000000</td>\n",
       "      <td>0.190476</td>\n",
       "      <td>0.571429</td>\n",
       "    </tr>\n",
       "  </tbody>\n",
       "</table>\n",
       "</div>"
      ],
      "text/plain": [
       "        Unnamed: 0      latitud     longitud         precio           m2  \\\n",
       "count  1050.000000  1050.000000  1050.000000    1050.000000  1048.000000   \n",
       "mean    524.500000   -34.526132   -58.423896   35737.122857    62.232777   \n",
       "std     303.253195     2.549434     2.319076   49897.697379    56.281333   \n",
       "min       0.000000   -38.505290  -120.740135      27.000000     0.000000   \n",
       "25%     262.250000   -34.608908   -58.448631   16800.000000    35.000000   \n",
       "50%     524.500000   -34.594705   -58.423578   25000.000000    45.000000   \n",
       "75%     786.750000   -34.578902   -58.395060   39000.000000    70.000000   \n",
       "max    1049.000000    47.751076   -34.588875  820000.000000   700.000000   \n",
       "Nan       0.000000     0.000000     0.000000       0.000000     2.000000   \n",
       "%Nan      0.000000     0.000000     0.000000       0.000000     0.190476   \n",
       "\n",
       "         ambientes  \n",
       "count  1044.000000  \n",
       "mean      2.143678  \n",
       "std       1.339870  \n",
       "min       0.000000  \n",
       "25%       1.000000  \n",
       "50%       2.000000  \n",
       "75%       3.000000  \n",
       "max      18.000000  \n",
       "Nan       6.000000  \n",
       "%Nan      0.571429  "
      ]
     },
     "execution_count": 3,
     "metadata": {},
     "output_type": "execute_result"
    }
   ],
   "source": [
    "df = pd.read_csv(\"propiedades.csv\")\n",
    "des = df.describe()\n",
    "des.loc['Nan'] = df.isna().sum()\n",
    "des.loc['%Nan'] = (df.isna().mean())*100\n",
    "des"
   ]
  },
  {
   "cell_type": "code",
   "execution_count": 4,
   "id": "35c02f5e-ed0f-41e8-a294-abf7303793aa",
   "metadata": {},
   "outputs": [
    {
     "data": {
      "text/html": [
       "<div>\n",
       "<style scoped>\n",
       "    .dataframe tbody tr th:only-of-type {\n",
       "        vertical-align: middle;\n",
       "    }\n",
       "\n",
       "    .dataframe tbody tr th {\n",
       "        vertical-align: top;\n",
       "    }\n",
       "\n",
       "    .dataframe thead th {\n",
       "        text-align: right;\n",
       "    }\n",
       "</style>\n",
       "<table border=\"1\" class=\"dataframe\">\n",
       "  <thead>\n",
       "    <tr style=\"text-align: right;\">\n",
       "      <th></th>\n",
       "      <th>Unnamed: 0</th>\n",
       "      <th>fecha</th>\n",
       "      <th>latitud</th>\n",
       "      <th>longitud</th>\n",
       "      <th>url</th>\n",
       "      <th>titulo</th>\n",
       "      <th>tipo_propiedad</th>\n",
       "      <th>precio</th>\n",
       "      <th>moneda</th>\n",
       "      <th>m2</th>\n",
       "      <th>ambientes</th>\n",
       "    </tr>\n",
       "  </thead>\n",
       "  <tbody>\n",
       "    <tr>\n",
       "      <th>0</th>\n",
       "      <td>0</td>\n",
       "      <td>2020_10_11</td>\n",
       "      <td>-34.611270</td>\n",
       "      <td>-58.36378</td>\n",
       "      <td>https://departamento.mercadolibre.com.ar/MLA-7...</td>\n",
       "      <td>Departamento-alquiler - Puerto Madero-situar</td>\n",
       "      <td>Departamento</td>\n",
       "      <td>2900.0</td>\n",
       "      <td>USD</td>\n",
       "      <td>192.0</td>\n",
       "      <td>4.0</td>\n",
       "    </tr>\n",
       "    <tr>\n",
       "      <th>1</th>\n",
       "      <td>1</td>\n",
       "      <td>2020_10_11</td>\n",
       "      <td>-34.589848</td>\n",
       "      <td>-58.50942</td>\n",
       "      <td>https://departamento.mercadolibre.com.ar/MLA-7...</td>\n",
       "      <td>Oportunidad! Monoambiente A Estrenar - Alquile...</td>\n",
       "      <td>Departamento</td>\n",
       "      <td>50.0</td>\n",
       "      <td>USD</td>\n",
       "      <td>38.0</td>\n",
       "      <td>1.0</td>\n",
       "    </tr>\n",
       "    <tr>\n",
       "      <th>2</th>\n",
       "      <td>2</td>\n",
       "      <td>2020_10_11</td>\n",
       "      <td>-34.605970</td>\n",
       "      <td>-34.60597</td>\n",
       "      <td>https://departamento.mercadolibre.com.ar/MLA-8...</td>\n",
       "      <td>Alquiler Temporario De Lujo 4/p Hospital Itali...</td>\n",
       "      <td>Departamento</td>\n",
       "      <td>1866.0</td>\n",
       "      <td>ARS</td>\n",
       "      <td>57.0</td>\n",
       "      <td>1.0</td>\n",
       "    </tr>\n",
       "    <tr>\n",
       "      <th>3</th>\n",
       "      <td>3</td>\n",
       "      <td>2020_10_11</td>\n",
       "      <td>-34.590656</td>\n",
       "      <td>-58.44873</td>\n",
       "      <td>https://departamento.mercadolibre.com.ar/MLA-8...</td>\n",
       "      <td>Excelente Departamento 3 Ambientes (2 Cuartos)...</td>\n",
       "      <td>Departamento</td>\n",
       "      <td>30000.0</td>\n",
       "      <td>ARS</td>\n",
       "      <td>60.0</td>\n",
       "      <td>3.0</td>\n",
       "    </tr>\n",
       "    <tr>\n",
       "      <th>4</th>\n",
       "      <td>4</td>\n",
       "      <td>2020_10_11</td>\n",
       "      <td>-34.624084</td>\n",
       "      <td>-58.38989</td>\n",
       "      <td>https://departamento.mercadolibre.com.ar/MLA-8...</td>\n",
       "      <td>Departamentos Alquil Temporario Centro Cap Fed...</td>\n",
       "      <td>Departamento</td>\n",
       "      <td>2100.0</td>\n",
       "      <td>ARS</td>\n",
       "      <td>64.0</td>\n",
       "      <td>3.0</td>\n",
       "    </tr>\n",
       "  </tbody>\n",
       "</table>\n",
       "</div>"
      ],
      "text/plain": [
       "   Unnamed: 0       fecha    latitud  longitud  \\\n",
       "0           0  2020_10_11 -34.611270 -58.36378   \n",
       "1           1  2020_10_11 -34.589848 -58.50942   \n",
       "2           2  2020_10_11 -34.605970 -34.60597   \n",
       "3           3  2020_10_11 -34.590656 -58.44873   \n",
       "4           4  2020_10_11 -34.624084 -58.38989   \n",
       "\n",
       "                                                 url  \\\n",
       "0  https://departamento.mercadolibre.com.ar/MLA-7...   \n",
       "1  https://departamento.mercadolibre.com.ar/MLA-7...   \n",
       "2  https://departamento.mercadolibre.com.ar/MLA-8...   \n",
       "3  https://departamento.mercadolibre.com.ar/MLA-8...   \n",
       "4  https://departamento.mercadolibre.com.ar/MLA-8...   \n",
       "\n",
       "                                              titulo tipo_propiedad   precio  \\\n",
       "0       Departamento-alquiler - Puerto Madero-situar   Departamento   2900.0   \n",
       "1  Oportunidad! Monoambiente A Estrenar - Alquile...   Departamento     50.0   \n",
       "2  Alquiler Temporario De Lujo 4/p Hospital Itali...   Departamento   1866.0   \n",
       "3  Excelente Departamento 3 Ambientes (2 Cuartos)...   Departamento  30000.0   \n",
       "4  Departamentos Alquil Temporario Centro Cap Fed...   Departamento   2100.0   \n",
       "\n",
       "  moneda     m2  ambientes  \n",
       "0    USD  192.0        4.0  \n",
       "1    USD   38.0        1.0  \n",
       "2    ARS   57.0        1.0  \n",
       "3    ARS   60.0        3.0  \n",
       "4    ARS   64.0        3.0  "
      ]
     },
     "execution_count": 4,
     "metadata": {},
     "output_type": "execute_result"
    }
   ],
   "source": [
    "df.head()"
   ]
  },
  {
   "cell_type": "markdown",
   "id": "311cf924-00bd-4faf-bf34-fe5e7748d758",
   "metadata": {},
   "source": [
    "## Fin de la limpieza.\n",
    "Se finalizó la limpieza, no hay datos mal cargados o incompletos en el dataset"
   ]
  },
  {
   "cell_type": "code",
   "execution_count": 5,
   "id": "ebe75c4d-fb13-4a08-888c-93965c37293d",
   "metadata": {},
   "outputs": [],
   "source": [
    "df_clean = df.copy()\n",
    "df_clean.dropna(subset=['m2'], inplace=True)\n",
    "df_clean.dropna(subset=['ambientes'], inplace=True)"
   ]
  },
  {
   "cell_type": "code",
   "execution_count": 6,
   "id": "2d70e316-2d11-4458-becb-a4e9bf117527",
   "metadata": {},
   "outputs": [
    {
     "data": {
      "text/plain": [
       "(1044, 11)"
      ]
     },
     "execution_count": 6,
     "metadata": {},
     "output_type": "execute_result"
    }
   ],
   "source": [
    "df_clean.shape"
   ]
  },
  {
   "cell_type": "markdown",
   "id": "bdbd4cfd-5322-431b-be71-babb834b5c8c",
   "metadata": {},
   "source": [
    "# Explorar datos\n",
    "<img src=\"https://raw.githubusercontent.com/InoveAlumnos/dataset_analytics_python/master/images/Pipeline3.png\" width=\"1000\" align=\"middle\">"
   ]
  },
  {
   "cell_type": "code",
   "execution_count": 7,
   "id": "fd7fb621-7916-4e54-bde9-e3cb2f88e63a",
   "metadata": {},
   "outputs": [
    {
     "data": {
      "text/html": [
       "<div>\n",
       "<style scoped>\n",
       "    .dataframe tbody tr th:only-of-type {\n",
       "        vertical-align: middle;\n",
       "    }\n",
       "\n",
       "    .dataframe tbody tr th {\n",
       "        vertical-align: top;\n",
       "    }\n",
       "\n",
       "    .dataframe thead th {\n",
       "        text-align: right;\n",
       "    }\n",
       "</style>\n",
       "<table border=\"1\" class=\"dataframe\">\n",
       "  <thead>\n",
       "    <tr style=\"text-align: right;\">\n",
       "      <th></th>\n",
       "      <th>Unnamed: 0</th>\n",
       "      <th>fecha</th>\n",
       "      <th>latitud</th>\n",
       "      <th>longitud</th>\n",
       "      <th>url</th>\n",
       "      <th>titulo</th>\n",
       "      <th>tipo_propiedad</th>\n",
       "      <th>precio</th>\n",
       "      <th>moneda</th>\n",
       "      <th>m2</th>\n",
       "      <th>ambientes</th>\n",
       "    </tr>\n",
       "  </thead>\n",
       "  <tbody>\n",
       "    <tr>\n",
       "      <th>0</th>\n",
       "      <td>0</td>\n",
       "      <td>2020_10_11</td>\n",
       "      <td>-34.611270</td>\n",
       "      <td>-58.36378</td>\n",
       "      <td>https://departamento.mercadolibre.com.ar/MLA-7...</td>\n",
       "      <td>Departamento-alquiler - Puerto Madero-situar</td>\n",
       "      <td>Departamento</td>\n",
       "      <td>2900.0</td>\n",
       "      <td>USD</td>\n",
       "      <td>192.0</td>\n",
       "      <td>4.0</td>\n",
       "    </tr>\n",
       "    <tr>\n",
       "      <th>1</th>\n",
       "      <td>1</td>\n",
       "      <td>2020_10_11</td>\n",
       "      <td>-34.589848</td>\n",
       "      <td>-58.50942</td>\n",
       "      <td>https://departamento.mercadolibre.com.ar/MLA-7...</td>\n",
       "      <td>Oportunidad! Monoambiente A Estrenar - Alquile...</td>\n",
       "      <td>Departamento</td>\n",
       "      <td>50.0</td>\n",
       "      <td>USD</td>\n",
       "      <td>38.0</td>\n",
       "      <td>1.0</td>\n",
       "    </tr>\n",
       "    <tr>\n",
       "      <th>2</th>\n",
       "      <td>2</td>\n",
       "      <td>2020_10_11</td>\n",
       "      <td>-34.605970</td>\n",
       "      <td>-34.60597</td>\n",
       "      <td>https://departamento.mercadolibre.com.ar/MLA-8...</td>\n",
       "      <td>Alquiler Temporario De Lujo 4/p Hospital Itali...</td>\n",
       "      <td>Departamento</td>\n",
       "      <td>1866.0</td>\n",
       "      <td>ARS</td>\n",
       "      <td>57.0</td>\n",
       "      <td>1.0</td>\n",
       "    </tr>\n",
       "    <tr>\n",
       "      <th>3</th>\n",
       "      <td>3</td>\n",
       "      <td>2020_10_11</td>\n",
       "      <td>-34.590656</td>\n",
       "      <td>-58.44873</td>\n",
       "      <td>https://departamento.mercadolibre.com.ar/MLA-8...</td>\n",
       "      <td>Excelente Departamento 3 Ambientes (2 Cuartos)...</td>\n",
       "      <td>Departamento</td>\n",
       "      <td>30000.0</td>\n",
       "      <td>ARS</td>\n",
       "      <td>60.0</td>\n",
       "      <td>3.0</td>\n",
       "    </tr>\n",
       "    <tr>\n",
       "      <th>4</th>\n",
       "      <td>4</td>\n",
       "      <td>2020_10_11</td>\n",
       "      <td>-34.624084</td>\n",
       "      <td>-58.38989</td>\n",
       "      <td>https://departamento.mercadolibre.com.ar/MLA-8...</td>\n",
       "      <td>Departamentos Alquil Temporario Centro Cap Fed...</td>\n",
       "      <td>Departamento</td>\n",
       "      <td>2100.0</td>\n",
       "      <td>ARS</td>\n",
       "      <td>64.0</td>\n",
       "      <td>3.0</td>\n",
       "    </tr>\n",
       "  </tbody>\n",
       "</table>\n",
       "</div>"
      ],
      "text/plain": [
       "   Unnamed: 0       fecha    latitud  longitud  \\\n",
       "0           0  2020_10_11 -34.611270 -58.36378   \n",
       "1           1  2020_10_11 -34.589848 -58.50942   \n",
       "2           2  2020_10_11 -34.605970 -34.60597   \n",
       "3           3  2020_10_11 -34.590656 -58.44873   \n",
       "4           4  2020_10_11 -34.624084 -58.38989   \n",
       "\n",
       "                                                 url  \\\n",
       "0  https://departamento.mercadolibre.com.ar/MLA-7...   \n",
       "1  https://departamento.mercadolibre.com.ar/MLA-7...   \n",
       "2  https://departamento.mercadolibre.com.ar/MLA-8...   \n",
       "3  https://departamento.mercadolibre.com.ar/MLA-8...   \n",
       "4  https://departamento.mercadolibre.com.ar/MLA-8...   \n",
       "\n",
       "                                              titulo tipo_propiedad   precio  \\\n",
       "0       Departamento-alquiler - Puerto Madero-situar   Departamento   2900.0   \n",
       "1  Oportunidad! Monoambiente A Estrenar - Alquile...   Departamento     50.0   \n",
       "2  Alquiler Temporario De Lujo 4/p Hospital Itali...   Departamento   1866.0   \n",
       "3  Excelente Departamento 3 Ambientes (2 Cuartos)...   Departamento  30000.0   \n",
       "4  Departamentos Alquil Temporario Centro Cap Fed...   Departamento   2100.0   \n",
       "\n",
       "  moneda     m2  ambientes  \n",
       "0    USD  192.0        4.0  \n",
       "1    USD   38.0        1.0  \n",
       "2    ARS   57.0        1.0  \n",
       "3    ARS   60.0        3.0  \n",
       "4    ARS   64.0        3.0  "
      ]
     },
     "execution_count": 7,
     "metadata": {},
     "output_type": "execute_result"
    }
   ],
   "source": [
    "df_clean.head()"
   ]
  },
  {
   "cell_type": "code",
   "execution_count": 8,
   "id": "9cf6674b-13f0-40ad-8bb3-774cf36695c5",
   "metadata": {},
   "outputs": [
    {
     "name": "stdout",
     "output_type": "stream",
     "text": [
      "Cantidad de datos en observacion: 928\n"
     ]
    }
   ],
   "source": [
    "df_ars = df_clean[df_clean['moneda'] == 'ARS']\n",
    "print('Cantidad de datos en observacion:', df_ars.shape[0])"
   ]
  },
  {
   "cell_type": "markdown",
   "id": "3cb658cf-9f19-4053-bf2c-df9439c72454",
   "metadata": {},
   "source": [
    "### Analizamos la distribución de los datos para ver si hay outliers."
   ]
  },
  {
   "cell_type": "code",
   "execution_count": 9,
   "id": "e8b7684e-1a49-4f44-a91d-b9816913ccf2",
   "metadata": {},
   "outputs": [
    {
     "data": {
      "image/png": "[encoded data removed]",
      "text/plain": [
       "<Figure size 1152x648 with 1 Axes>"
      ]
     },
     "metadata": {
      "needs_background": "light"
     },
     "output_type": "display_data"
    }
   ],
   "source": [
    "fig = plt.figure(figsize=(16, 9))\n",
    "ax = fig.add_subplot()\n",
    "sns.boxplot(x=df_ars['m2'], ax=ax)\n",
    "ax.grid('dashed')"
   ]
  },
  {
   "cell_type": "markdown",
   "id": "9a2d79ce-3157-4d24-9e32-5efedc82230f",
   "metadata": {},
   "source": [
    "### Tomamos los datos de 50 a 200 metros cuadrados, descartando asi los outliers."
   ]
  },
  {
   "cell_type": "code",
   "execution_count": 10,
   "id": "1bff19a4-0cff-45ab-ac1a-61200a1ee445",
   "metadata": {},
   "outputs": [],
   "source": [
    "propiedades = df_ars[(df_ars['m2'] < 200) & (df_ars['m2'] > 50)]"
   ]
  },
  {
   "cell_type": "code",
   "execution_count": 11,
   "id": "ee6bdad6-12ac-4e7a-8261-3531d849fc3b",
   "metadata": {},
   "outputs": [
    {
     "name": "stdout",
     "output_type": "stream",
     "text": [
      "323\n"
     ]
    }
   ],
   "source": [
    "print(propiedades.shape[0])"
   ]
  },
  {
   "cell_type": "code",
   "execution_count": 12,
   "id": "c8ba16c8-a2f2-4237-8413-988bef9e6ef0",
   "metadata": {},
   "outputs": [
    {
     "data": {
      "text/html": [
       "<div>\n",
       "<style scoped>\n",
       "    .dataframe tbody tr th:only-of-type {\n",
       "        vertical-align: middle;\n",
       "    }\n",
       "\n",
       "    .dataframe tbody tr th {\n",
       "        vertical-align: top;\n",
       "    }\n",
       "\n",
       "    .dataframe thead th {\n",
       "        text-align: right;\n",
       "    }\n",
       "</style>\n",
       "<table border=\"1\" class=\"dataframe\">\n",
       "  <thead>\n",
       "    <tr style=\"text-align: right;\">\n",
       "      <th></th>\n",
       "      <th>Unnamed: 0</th>\n",
       "      <th>fecha</th>\n",
       "      <th>latitud</th>\n",
       "      <th>longitud</th>\n",
       "      <th>url</th>\n",
       "      <th>titulo</th>\n",
       "      <th>tipo_propiedad</th>\n",
       "      <th>precio</th>\n",
       "      <th>moneda</th>\n",
       "      <th>m2</th>\n",
       "      <th>ambientes</th>\n",
       "    </tr>\n",
       "  </thead>\n",
       "  <tbody>\n",
       "    <tr>\n",
       "      <th>2</th>\n",
       "      <td>2</td>\n",
       "      <td>2020_10_11</td>\n",
       "      <td>-34.605970</td>\n",
       "      <td>-34.605970</td>\n",
       "      <td>https://departamento.mercadolibre.com.ar/MLA-8...</td>\n",
       "      <td>Alquiler Temporario De Lujo 4/p Hospital Itali...</td>\n",
       "      <td>Departamento</td>\n",
       "      <td>1866.0</td>\n",
       "      <td>ARS</td>\n",
       "      <td>57.0</td>\n",
       "      <td>1.0</td>\n",
       "    </tr>\n",
       "    <tr>\n",
       "      <th>3</th>\n",
       "      <td>3</td>\n",
       "      <td>2020_10_11</td>\n",
       "      <td>-34.590656</td>\n",
       "      <td>-58.448730</td>\n",
       "      <td>https://departamento.mercadolibre.com.ar/MLA-8...</td>\n",
       "      <td>Excelente Departamento 3 Ambientes (2 Cuartos)...</td>\n",
       "      <td>Departamento</td>\n",
       "      <td>30000.0</td>\n",
       "      <td>ARS</td>\n",
       "      <td>60.0</td>\n",
       "      <td>3.0</td>\n",
       "    </tr>\n",
       "    <tr>\n",
       "      <th>4</th>\n",
       "      <td>4</td>\n",
       "      <td>2020_10_11</td>\n",
       "      <td>-34.624084</td>\n",
       "      <td>-58.389890</td>\n",
       "      <td>https://departamento.mercadolibre.com.ar/MLA-8...</td>\n",
       "      <td>Departamentos Alquil Temporario Centro Cap Fed...</td>\n",
       "      <td>Departamento</td>\n",
       "      <td>2100.0</td>\n",
       "      <td>ARS</td>\n",
       "      <td>64.0</td>\n",
       "      <td>3.0</td>\n",
       "    </tr>\n",
       "    <tr>\n",
       "      <th>7</th>\n",
       "      <td>7</td>\n",
       "      <td>2020_10_11</td>\n",
       "      <td>-34.578410</td>\n",
       "      <td>-58.440410</td>\n",
       "      <td>https://departamento.mercadolibre.com.ar/MLA-8...</td>\n",
       "      <td>Alquiler Temporario Amoblado Av. Federico Lacr...</td>\n",
       "      <td>Departamento</td>\n",
       "      <td>3500.0</td>\n",
       "      <td>ARS</td>\n",
       "      <td>65.0</td>\n",
       "      <td>2.0</td>\n",
       "    </tr>\n",
       "    <tr>\n",
       "      <th>8</th>\n",
       "      <td>8</td>\n",
       "      <td>2020_10_11</td>\n",
       "      <td>-34.578278</td>\n",
       "      <td>-58.449863</td>\n",
       "      <td>https://departamento.mercadolibre.com.ar/MLA-8...</td>\n",
       "      <td>Departamento Amoblado Temporario De Catergoria...</td>\n",
       "      <td>Departamento</td>\n",
       "      <td>3000.0</td>\n",
       "      <td>ARS</td>\n",
       "      <td>55.0</td>\n",
       "      <td>2.0</td>\n",
       "    </tr>\n",
       "  </tbody>\n",
       "</table>\n",
       "</div>"
      ],
      "text/plain": [
       "   Unnamed: 0       fecha    latitud   longitud  \\\n",
       "2           2  2020_10_11 -34.605970 -34.605970   \n",
       "3           3  2020_10_11 -34.590656 -58.448730   \n",
       "4           4  2020_10_11 -34.624084 -58.389890   \n",
       "7           7  2020_10_11 -34.578410 -58.440410   \n",
       "8           8  2020_10_11 -34.578278 -58.449863   \n",
       "\n",
       "                                                 url  \\\n",
       "2  https://departamento.mercadolibre.com.ar/MLA-8...   \n",
       "3  https://departamento.mercadolibre.com.ar/MLA-8...   \n",
       "4  https://departamento.mercadolibre.com.ar/MLA-8...   \n",
       "7  https://departamento.mercadolibre.com.ar/MLA-8...   \n",
       "8  https://departamento.mercadolibre.com.ar/MLA-8...   \n",
       "\n",
       "                                              titulo tipo_propiedad   precio  \\\n",
       "2  Alquiler Temporario De Lujo 4/p Hospital Itali...   Departamento   1866.0   \n",
       "3  Excelente Departamento 3 Ambientes (2 Cuartos)...   Departamento  30000.0   \n",
       "4  Departamentos Alquil Temporario Centro Cap Fed...   Departamento   2100.0   \n",
       "7  Alquiler Temporario Amoblado Av. Federico Lacr...   Departamento   3500.0   \n",
       "8  Departamento Amoblado Temporario De Catergoria...   Departamento   3000.0   \n",
       "\n",
       "  moneda    m2  ambientes  \n",
       "2    ARS  57.0        1.0  \n",
       "3    ARS  60.0        3.0  \n",
       "4    ARS  64.0        3.0  \n",
       "7    ARS  65.0        2.0  \n",
       "8    ARS  55.0        2.0  "
      ]
     },
     "execution_count": 12,
     "metadata": {},
     "output_type": "execute_result"
    }
   ],
   "source": [
    "propiedades.head()"
   ]
  },
  {
   "cell_type": "markdown",
   "id": "853521c9-6d56-4501-b8ca-245e534acf1e",
   "metadata": {},
   "source": [
    "# Entrenar modelo (solo regresión lineal)\n",
    "<img src=\"https://raw.githubusercontent.com/InoveAlumnos/dataset_analytics_python/master/images/Pipeline4.png\" width=\"1000\" align=\"middle\">"
   ]
  },
  {
   "cell_type": "code",
   "execution_count": 13,
   "id": "38dc1dac-d2c1-4bde-9f4e-ffd91afd013d",
   "metadata": {},
   "outputs": [],
   "source": [
    "X = propiedades[['m2']].values\n",
    "y = propiedades['precio'].values"
   ]
  },
  {
   "cell_type": "code",
   "execution_count": 14,
   "id": "40601c30-ba79-460f-9651-e8b8a1310071",
   "metadata": {},
   "outputs": [],
   "source": [
    "from sklearn.model_selection import train_test_split\n",
    "X_train, X_test, y_train, y_test = train_test_split(X, y, test_size=0.3, random_state=42)"
   ]
  },
  {
   "cell_type": "code",
   "execution_count": 15,
   "id": "4a953095-e68d-43c3-8278-7ae1f9cffbbc",
   "metadata": {},
   "outputs": [],
   "source": [
    "from sklearn import linear_model\n",
    "lr = linear_model.LinearRegression()\n",
    "lr.fit(X_train, y_train)\n",
    "y_hat= lr.predict(X_test)"
   ]
  },
  {
   "cell_type": "code",
   "execution_count": 16,
   "id": "3eac6933-0414-4e7f-8338-52c5d216b21c",
   "metadata": {},
   "outputs": [
    {
     "data": {
      "image/png": "[encoded data removed]",
      "text/plain": [
       "<Figure size 432x288 with 1 Axes>"
      ]
     },
     "metadata": {
      "needs_background": "light"
     },
     "output_type": "display_data"
    }
   ],
   "source": [
    "fig = plt.figure()\n",
    "ax = fig.add_subplot()\n",
    "ax = sns.scatterplot(x=propiedades['m2'], y=propiedades['precio'], color='darkBlue', ax=ax, label='data')\n",
    "ax = sns.scatterplot(x=X_test[:, 0], y=y_hat, color='darkGreen', ax=ax, label='linear')\n",
    "ax.grid('dashed')\n",
    "ax.legend()\n",
    "plt.show()"
   ]
  },
  {
   "cell_type": "markdown",
   "id": "7a6329a8-e308-472a-9260-baaf1c4109b8",
   "metadata": {},
   "source": [
    "# Validar modelo\n",
    "<img src=\"https://raw.githubusercontent.com/InoveAlumnos/dataset_analytics_python/master/images/Pipeline5.png\" width=\"1000\" align=\"middle\">"
   ]
  },
  {
   "cell_type": "code",
   "execution_count": 17,
   "id": "af798323-d86b-4bae-994c-2139bcf260f1",
   "metadata": {},
   "outputs": [
    {
     "name": "stdout",
     "output_type": "stream",
     "text": [
      "Coeficiente de determinación: 0.40\n"
     ]
    }
   ],
   "source": [
    "from sklearn.metrics import r2_score\n",
    "score = r2_score(y_test, y_hat)\n",
    "print(f\"Coeficiente de determinación: {score:.2f}\")"
   ]
  },
  {
   "cell_type": "markdown",
   "id": "2d60659f-7c46-4390-a919-56eef81871ee",
   "metadata": {},
   "source": [
    "### Este resultado se mejoraría si dividimos los datos en clusters para realizar varias regresiones liniales."
   ]
  },
  {
   "cell_type": "markdown",
   "id": "94a2e292-be3b-4571-9f7d-2916f593a024",
   "metadata": {},
   "source": [
    "# Entrenar modelo (clustering + regresión)\n",
    "<img src=\"https://raw.githubusercontent.com/InoveAlumnos/dataset_analytics_python/master/images/Pipeline4.png\" width=\"1000\" align=\"middle\">"
   ]
  },
  {
   "cell_type": "markdown",
   "id": "c47cadc1-4b6b-4e89-b854-181073fc4f5e",
   "metadata": {
    "tags": []
   },
   "source": [
    "### Realizamos pruebas para determinar la cantidad optima de clusters a realizar."
   ]
  },
  {
   "cell_type": "code",
   "execution_count": 18,
   "id": "a8499b47-f88d-43bb-a777-44b5b807ea43",
   "metadata": {},
   "outputs": [],
   "source": [
    "from sklearn.cluster import KMeans\n",
    "from sklearn.metrics import silhouette_score\n",
    "\n",
    "def find_best_model(X, max_clusters=10):\n",
    "\n",
    "    n_clusters = list(range(2, max_clusters+1))\n",
    "    ensayos = len(n_clusters)\n",
    "\n",
    "    ssd = np.zeros((ensayos))\n",
    "    score = np.zeros((ensayos))\n",
    "\n",
    "    for i in range(ensayos): \n",
    "        kmeans = KMeans(n_clusters=n_clusters[i], init=\"k-means++\", random_state=0)\n",
    "        kmeans.fit(X)\n",
    "        ssd[i] = kmeans.inertia_\n",
    "        score[i] = silhouette_score(X, kmeans.labels_)\n",
    "\n",
    "    fig = plt.figure()\n",
    "    ax = fig.add_subplot()\n",
    "    ax.plot(n_clusters, ssd/ssd.max(), label='error')\n",
    "    ax.plot(n_clusters, score, label='score')\n",
    "    ax.grid('dashed')\n",
    "    ax.legend()\n",
    "    plt.show()"
   ]
  },
  {
   "cell_type": "code",
   "execution_count": 19,
   "id": "b740848e-c6cf-46a0-b8e0-91b1afe68653",
   "metadata": {},
   "outputs": [
    {
     "data": {
      "image/png": "[encoded data removed]",
      "text/plain": [
       "<Figure size 432x288 with 1 Axes>"
      ]
     },
     "metadata": {
      "needs_background": "light"
     },
     "output_type": "display_data"
    }
   ],
   "source": [
    "best_cluster = find_best_model(X)"
   ]
  },
  {
   "cell_type": "markdown",
   "id": "f53aa4ed-ee5b-4c2c-9584-5e6596255187",
   "metadata": {},
   "source": [
    "### El mayor punto codo del grafico se produce al ultilizar 3 clusters, por lo que usaremos esa cantidad."
   ]
  },
  {
   "cell_type": "code",
   "execution_count": 20,
   "id": "563ae17e-6abc-4e30-8089-e5ea5fb87bce",
   "metadata": {},
   "outputs": [
    {
     "name": "stderr",
     "output_type": "stream",
     "text": [
      "c:\\users\\joaquin\\appdata\\local\\programs\\python\\python37\\lib\\site-packages\\ipykernel_launcher.py:7: SettingWithCopyWarning: \n",
      "A value is trying to be set on a copy of a slice from a DataFrame.\n",
      "Try using .loc[row_indexer,col_indexer] = value instead\n",
      "\n",
      "See the caveats in the documentation: https://pandas.pydata.org/pandas-docs/stable/user_guide/indexing.html#returning-a-view-versus-a-copy\n",
      "  import sys\n"
     ]
    },
    {
     "data": {
      "text/plain": [
       "<AxesSubplot:xlabel='m2', ylabel='precio'>"
      ]
     },
     "execution_count": 20,
     "metadata": {},
     "output_type": "execute_result"
    },
    {
     "data": {
      "image/png": "[encoded data removed]",
      "text/plain": [
       "<Figure size 432x288 with 1 Axes>"
      ]
     },
     "metadata": {
      "needs_background": "light"
     },
     "output_type": "display_data"
    }
   ],
   "source": [
    "from sklearn.cluster import KMeans\n",
    "\n",
    "X_clustering = propiedades[['m2', 'precio']].values\n",
    "\n",
    "kmeans = KMeans(n_clusters=3, init=\"k-means++\", random_state=0)\n",
    "kmeans.fit(X_clustering)\n",
    "propiedades['priceperm2'] = kmeans.predict(X_clustering)\n",
    "\n",
    "sns.scatterplot(data=propiedades, x='m2', y='precio', hue='priceperm2', palette='bright')"
   ]
  },
  {
   "cell_type": "markdown",
   "id": "46fc3c61-0f6e-4855-ad4f-1b73b5583035",
   "metadata": {},
   "source": [
    "### Aqui podemos ver la manera en la que se dividieron los datos."
   ]
  },
  {
   "cell_type": "code",
   "execution_count": 21,
   "id": "b15932be-b70f-4df4-ac0e-b7b2a5f39f81",
   "metadata": {},
   "outputs": [
    {
     "data": {
      "image/png": "[encoded data removed]",
      "text/plain": [
       "<Figure size 432x288 with 1 Axes>"
      ]
     },
     "metadata": {
      "needs_background": "light"
     },
     "output_type": "display_data"
    }
   ],
   "source": [
    "fig = plt.figure()\n",
    "ax = fig.add_subplot()\n",
    "ax = sns.scatterplot(x=propiedades['m2'], y=propiedades['precio'], hue=propiedades['priceperm2'], palette='bright', ax=ax)\n",
    "ax.grid('dashed')\n",
    "plt.show()"
   ]
  },
  {
   "cell_type": "markdown",
   "id": "58d831b3-9a1f-4daa-9d0c-6b61ed257f77",
   "metadata": {},
   "source": [
    "### Realizamos una regresión lineal por cluster."
   ]
  },
  {
   "cell_type": "code",
   "execution_count": 22,
   "id": "022ab51e-85d2-4f1f-aee4-4953fd2dd7c8",
   "metadata": {},
   "outputs": [
    {
     "name": "stdout",
     "output_type": "stream",
     "text": [
      "Coeficiente de determinación: -0.02 para el cluster 1\n",
      "Coeficiente de determinación: -0.09 para el cluster 0\n",
      "Coeficiente de determinación: 0.22 para el cluster 2\n"
     ]
    }
   ],
   "source": [
    "n_clusters = propiedades['priceperm2'].unique()\n",
    "lr_models = []\n",
    "\n",
    "for cluster in n_clusters:\n",
    "\n",
    "    df_cluster = propiedades[propiedades['priceperm2'] == cluster]\n",
    "\n",
    "    X_clust = df_cluster[['m2']].values\n",
    "    y_clust = df_cluster['precio'].values\n",
    "\n",
    "    X_train_clust, X_test_clust, y_train_clust, y_test_clust = train_test_split(X_clust, y_clust, test_size=0.3, random_state=42)\n",
    "\n",
    "    lr = linear_model.LinearRegression()\n",
    "    lr.fit(X_train_clust, y_train_clust)\n",
    "    y_hat_clust = lr.predict(X_test_clust)\n",
    "\n",
    "    score = r2_score(y_test_clust, y_hat_clust)\n",
    "    print(f\"Coeficiente de determinación: {score:.2f} para el cluster\", cluster)\n",
    "    lr_models.append(lr)\n"
   ]
  },
  {
   "cell_type": "markdown",
   "id": "5ef6371d-45a9-4999-9abe-8440b6ba3bc5",
   "metadata": {},
   "source": [
    "# Utilizar modelo\n",
    "<img src=\"https://raw.githubusercontent.com/InoveAlumnos/dataset_analytics_python/master/images/Pipeline6.png\" width=\"1000\" align=\"middle\">"
   ]
  },
  {
   "cell_type": "markdown",
   "id": "a02984d5-bb74-4e74-8084-606512a72f16",
   "metadata": {},
   "source": [
    "### Verificamos que las regresiones representen los datos del dataset."
   ]
  },
  {
   "cell_type": "code",
   "execution_count": 23,
   "id": "bfd1464c-339c-4b92-8133-ec59a6f81171",
   "metadata": {},
   "outputs": [
    {
     "data": {
      "image/png": "[encoded data removed]",
      "text/plain": [
       "<Figure size 1152x648 with 1 Axes>"
      ]
     },
     "metadata": {
      "needs_background": "light"
     },
     "output_type": "display_data"
    }
   ],
   "source": [
    "fig = plt.figure(figsize=(16,9))\n",
    "ax = fig.add_subplot()\n",
    "ax = sns.scatterplot(x=propiedades['m2'], y=propiedades['precio'], color='darkBlue', ax=ax, label='data')\n",
    "\n",
    "for lr_model in lr_models:\n",
    "    X_sorted = np.asanyarray(sorted(X))\n",
    "    y_pred = lr_model.predict(X_sorted)\n",
    "    ax = sns.lineplot(x=X_sorted[:, 0], y=y_pred, ax=ax, label='linear+cluster')\n",
    "\n",
    "ax.grid('dashed')\n",
    "ax.legend()\n",
    "plt.show()"
   ]
  },
  {
   "cell_type": "markdown",
   "id": "8c22c651-2c3c-4642-be9c-af85f889e03a",
   "metadata": {},
   "source": [
    "#### Al final se obtuvieron tres regresiones que representan de manera correcta los datos en su totalidad."
   ]
  }
 ],
 "metadata": {
  "kernelspec": {
   "display_name": "Python 3",
   "language": "python",
   "name": "python3"
  },
  "language_info": {
   "codemirror_mode": {
    "name": "ipython",
    "version": 3
   },
   "file_extension": ".py",
   "mimetype": "text/x-python",
   "name": "python",
   "nbconvert_exporter": "python",
   "pygments_lexer": "ipython3",
   "version": "3.7.7"
  }
 },
 "nbformat": 4,
 "nbformat_minor": 5
}
